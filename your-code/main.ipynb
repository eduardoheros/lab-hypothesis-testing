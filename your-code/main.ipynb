{
  "nbformat": 4,
  "nbformat_minor": 0,
  "metadata": {
    "kernelspec": {
      "display_name": "Python 3",
      "language": "python",
      "name": "python3"
    },
    "language_info": {
      "codemirror_mode": {
        "name": "ipython",
        "version": 3
      },
      "file_extension": ".py",
      "mimetype": "text/x-python",
      "name": "python",
      "nbconvert_exporter": "python",
      "pygments_lexer": "ipython3",
      "version": "3.7.3"
    },
    "colab": {
      "name": "main.ipynb",
      "provenance": []
    }
  },
  "cells": [
    {
      "cell_type": "markdown",
      "metadata": {
        "id": "3NwaS6WZwBmb",
        "colab_type": "text"
      },
      "source": [
        "# Before your start:\n",
        "- Read the README.md file\n",
        "- Comment as much as you can and use the resources (README.md file)\n",
        "- Happy learning!"
      ]
    },
    {
      "cell_type": "code",
      "metadata": {
        "id": "OXzGJU-UwBmd",
        "colab_type": "code",
        "colab": {}
      },
      "source": [
        "import numpy as np\n",
        "import pandas as pd\n",
        "from statsmodels.stats import weightstats as stest\n",
        "from statsmodels.stats import proportion\n",
        "from scipy.stats import t\n",
        "from scipy.stats import sem"
      ],
      "execution_count": 55,
      "outputs": []
    },
    {
      "cell_type": "markdown",
      "metadata": {
        "id": "s_DCvgbZwBmi",
        "colab_type": "text"
      },
      "source": [
        "# Challenge 1 - Exploring the Data\n",
        "\n",
        "In this challenge, we will examine all salaries of employees of the City of Chicago. We will start by loading the dataset and examining its contents"
      ]
    },
    {
      "cell_type": "code",
      "metadata": {
        "id": "0A4ePYduwBmj",
        "colab_type": "code",
        "colab": {}
      },
      "source": [
        "salaries = pd.read_csv(\"https://raw.githubusercontent.com/eduardoheros/lab-hypothesis-testing/master/Current_Employee_Names__Salaries__and_Position_Titles.csv\")"
      ],
      "execution_count": 2,
      "outputs": []
    },
    {
      "cell_type": "markdown",
      "metadata": {
        "id": "x1le5R1rwBmm",
        "colab_type": "text"
      },
      "source": [
        "Examine the `salaries` dataset using the `head` function below."
      ]
    },
    {
      "cell_type": "code",
      "metadata": {
        "id": "sGt-sCxCwBmn",
        "colab_type": "code",
        "colab": {
          "base_uri": "https://localhost:8080/",
          "height": 204
        },
        "outputId": "de89f183-dcbc-4fe2-fadd-c7d318adc1cd"
      },
      "source": [
        "salaries.head()"
      ],
      "execution_count": 3,
      "outputs": [
        {
          "output_type": "execute_result",
          "data": {
            "text/html": [
              "<div>\n",
              "<style scoped>\n",
              "    .dataframe tbody tr th:only-of-type {\n",
              "        vertical-align: middle;\n",
              "    }\n",
              "\n",
              "    .dataframe tbody tr th {\n",
              "        vertical-align: top;\n",
              "    }\n",
              "\n",
              "    .dataframe thead th {\n",
              "        text-align: right;\n",
              "    }\n",
              "</style>\n",
              "<table border=\"1\" class=\"dataframe\">\n",
              "  <thead>\n",
              "    <tr style=\"text-align: right;\">\n",
              "      <th></th>\n",
              "      <th>Name</th>\n",
              "      <th>Job Titles</th>\n",
              "      <th>Department</th>\n",
              "      <th>Full or Part-Time</th>\n",
              "      <th>Salary or Hourly</th>\n",
              "      <th>Typical Hours</th>\n",
              "      <th>Annual Salary</th>\n",
              "      <th>Hourly Rate</th>\n",
              "    </tr>\n",
              "  </thead>\n",
              "  <tbody>\n",
              "    <tr>\n",
              "      <th>0</th>\n",
              "      <td>AARON,  JEFFERY M</td>\n",
              "      <td>SERGEANT</td>\n",
              "      <td>POLICE</td>\n",
              "      <td>F</td>\n",
              "      <td>Salary</td>\n",
              "      <td>NaN</td>\n",
              "      <td>101442.0</td>\n",
              "      <td>NaN</td>\n",
              "    </tr>\n",
              "    <tr>\n",
              "      <th>1</th>\n",
              "      <td>AARON,  KARINA</td>\n",
              "      <td>POLICE OFFICER (ASSIGNED AS DETECTIVE)</td>\n",
              "      <td>POLICE</td>\n",
              "      <td>F</td>\n",
              "      <td>Salary</td>\n",
              "      <td>NaN</td>\n",
              "      <td>94122.0</td>\n",
              "      <td>NaN</td>\n",
              "    </tr>\n",
              "    <tr>\n",
              "      <th>2</th>\n",
              "      <td>AARON,  KIMBERLEI R</td>\n",
              "      <td>CHIEF CONTRACT EXPEDITER</td>\n",
              "      <td>GENERAL SERVICES</td>\n",
              "      <td>F</td>\n",
              "      <td>Salary</td>\n",
              "      <td>NaN</td>\n",
              "      <td>101592.0</td>\n",
              "      <td>NaN</td>\n",
              "    </tr>\n",
              "    <tr>\n",
              "      <th>3</th>\n",
              "      <td>ABAD JR,  VICENTE M</td>\n",
              "      <td>CIVIL ENGINEER IV</td>\n",
              "      <td>WATER MGMNT</td>\n",
              "      <td>F</td>\n",
              "      <td>Salary</td>\n",
              "      <td>NaN</td>\n",
              "      <td>110064.0</td>\n",
              "      <td>NaN</td>\n",
              "    </tr>\n",
              "    <tr>\n",
              "      <th>4</th>\n",
              "      <td>ABASCAL,  REECE E</td>\n",
              "      <td>TRAFFIC CONTROL AIDE-HOURLY</td>\n",
              "      <td>OEMC</td>\n",
              "      <td>P</td>\n",
              "      <td>Hourly</td>\n",
              "      <td>20.0</td>\n",
              "      <td>NaN</td>\n",
              "      <td>19.86</td>\n",
              "    </tr>\n",
              "  </tbody>\n",
              "</table>\n",
              "</div>"
            ],
            "text/plain": [
              "                  Name  ... Hourly Rate\n",
              "0    AARON,  JEFFERY M  ...         NaN\n",
              "1      AARON,  KARINA   ...         NaN\n",
              "2  AARON,  KIMBERLEI R  ...         NaN\n",
              "3  ABAD JR,  VICENTE M  ...         NaN\n",
              "4    ABASCAL,  REECE E  ...       19.86\n",
              "\n",
              "[5 rows x 8 columns]"
            ]
          },
          "metadata": {
            "tags": []
          },
          "execution_count": 3
        }
      ]
    },
    {
      "cell_type": "markdown",
      "metadata": {
        "id": "tGMqqzcEwBmr",
        "colab_type": "text"
      },
      "source": [
        "We see from looking at the `head` function that there is quite a bit of missing data. Let's examine how much missing data is in each column. Produce this output in the cell below"
      ]
    },
    {
      "cell_type": "code",
      "metadata": {
        "id": "9esNNtFBwBms",
        "colab_type": "code",
        "colab": {
          "base_uri": "https://localhost:8080/",
          "height": 272
        },
        "outputId": "ee69c6a5-eae1-477f-b6f5-e4ad3d6e24cc"
      },
      "source": [
        "salaries.info()"
      ],
      "execution_count": 4,
      "outputs": [
        {
          "output_type": "stream",
          "text": [
            "<class 'pandas.core.frame.DataFrame'>\n",
            "RangeIndex: 33183 entries, 0 to 33182\n",
            "Data columns (total 8 columns):\n",
            " #   Column             Non-Null Count  Dtype  \n",
            "---  ------             --------------  -----  \n",
            " 0   Name               33183 non-null  object \n",
            " 1   Job Titles         33183 non-null  object \n",
            " 2   Department         33183 non-null  object \n",
            " 3   Full or Part-Time  33183 non-null  object \n",
            " 4   Salary or Hourly   33183 non-null  object \n",
            " 5   Typical Hours      8022 non-null   float64\n",
            " 6   Annual Salary      25161 non-null  float64\n",
            " 7   Hourly Rate        8022 non-null   float64\n",
            "dtypes: float64(3), object(5)\n",
            "memory usage: 2.0+ MB\n"
          ],
          "name": "stdout"
        }
      ]
    },
    {
      "cell_type": "markdown",
      "metadata": {
        "id": "N_veFpHTwBmv",
        "colab_type": "text"
      },
      "source": [
        "Let's also look at the count of hourly vs. salaried employees. Write the code in the cell below"
      ]
    },
    {
      "cell_type": "code",
      "metadata": {
        "id": "gJPy5462wBmw",
        "colab_type": "code",
        "colab": {
          "base_uri": "https://localhost:8080/",
          "height": 68
        },
        "outputId": "a69ee2f0-9956-4698-f51f-bcd42301d027"
      },
      "source": [
        "salaries['Salary or Hourly'].value_counts()"
      ],
      "execution_count": 5,
      "outputs": [
        {
          "output_type": "execute_result",
          "data": {
            "text/plain": [
              "Salary    25161\n",
              "Hourly     8022\n",
              "Name: Salary or Hourly, dtype: int64"
            ]
          },
          "metadata": {
            "tags": []
          },
          "execution_count": 5
        }
      ]
    },
    {
      "cell_type": "markdown",
      "metadata": {
        "id": "zN-LLxkawBmz",
        "colab_type": "text"
      },
      "source": [
        "What this information indicates is that the table contains information about two types of employees - salaried and hourly. Some columns apply only to one type of employee while other columns only apply to another kind. This is why there are so many missing values. Therefore, we will not do anything to handle the missing values."
      ]
    },
    {
      "cell_type": "markdown",
      "metadata": {
        "id": "tU3XakxtwBm0",
        "colab_type": "text"
      },
      "source": [
        "There are different departments in the city. List all departments and the count of employees in each department."
      ]
    },
    {
      "cell_type": "code",
      "metadata": {
        "id": "FTAmmg3gwBm0",
        "colab_type": "code",
        "colab": {
          "base_uri": "https://localhost:8080/",
          "height": 629
        },
        "outputId": "093ed9cb-9317-4115-c97f-f64e6308fe7f"
      },
      "source": [
        "salaries.Department.value_counts()"
      ],
      "execution_count": 6,
      "outputs": [
        {
          "output_type": "execute_result",
          "data": {
            "text/plain": [
              "POLICE                   13414\n",
              "FIRE                      4641\n",
              "STREETS & SAN             2198\n",
              "OEMC                      2102\n",
              "WATER MGMNT               1879\n",
              "AVIATION                  1629\n",
              "TRANSPORTN                1140\n",
              "PUBLIC LIBRARY            1015\n",
              "GENERAL SERVICES           980\n",
              "FAMILY & SUPPORT           615\n",
              "FINANCE                    560\n",
              "HEALTH                     488\n",
              "CITY COUNCIL               411\n",
              "LAW                        407\n",
              "BUILDINGS                  269\n",
              "COMMUNITY DEVELOPMENT      207\n",
              "BUSINESS AFFAIRS           171\n",
              "COPA                       116\n",
              "BOARD OF ELECTION          107\n",
              "DoIT                        99\n",
              "PROCUREMENT                 92\n",
              "INSPECTOR GEN               87\n",
              "MAYOR'S OFFICE              85\n",
              "CITY CLERK                  84\n",
              "ANIMAL CONTRL               81\n",
              "HUMAN RESOURCES             79\n",
              "CULTURAL AFFAIRS            65\n",
              "BUDGET & MGMT               46\n",
              "ADMIN HEARNG                39\n",
              "DISABILITIES                28\n",
              "TREASURER                   22\n",
              "HUMAN RELATIONS             16\n",
              "BOARD OF ETHICS              8\n",
              "POLICE BOARD                 2\n",
              "LICENSE APPL COMM            1\n",
              "Name: Department, dtype: int64"
            ]
          },
          "metadata": {
            "tags": []
          },
          "execution_count": 6
        }
      ]
    },
    {
      "cell_type": "markdown",
      "metadata": {
        "id": "EOP6WifrwBm4",
        "colab_type": "text"
      },
      "source": [
        "# Challenge 2 - Hypothesis Tests\n",
        "\n",
        "In this section of the lab, we will test whether the hourly wage of all hourly workers is significantly different from $30/hr. Import the correct one sample test function from scipy and perform the hypothesis test for a 95% two sided confidence interval."
      ]
    },
    {
      "cell_type": "code",
      "metadata": {
        "id": "HEW4CrhLDFeX",
        "colab_type": "code",
        "colab": {}
      },
      "source": [
        "hourly_rate=salaries[salaries[\"Hourly Rate\"].notnull()][\"Hourly Rate\"]"
      ],
      "execution_count": 7,
      "outputs": []
    },
    {
      "cell_type": "code",
      "metadata": {
        "id": "hdUlPGBywBm4",
        "colab_type": "code",
        "colab": {}
      },
      "source": [
        "ztest, pval = stest.ztest(hourly_rate,value=30,alternative=\"two-sided\")"
      ],
      "execution_count": 8,
      "outputs": []
    },
    {
      "cell_type": "code",
      "metadata": {
        "id": "OHs5qbFSCxBM",
        "colab_type": "code",
        "colab": {
          "base_uri": "https://localhost:8080/",
          "height": 34
        },
        "outputId": "e9d3c822-85b5-4d88-c487-f398e8b04e1c"
      },
      "source": [
        "if pval<0.05:\n",
        "  print(\"Null hypothesis is rejected\")\n",
        "else:\n",
        "  print(\"Null hypothesis is not rejected\")"
      ],
      "execution_count": 9,
      "outputs": [
        {
          "output_type": "stream",
          "text": [
            "Null hypothesis is rejected\n"
          ],
          "name": "stdout"
        }
      ]
    },
    {
      "cell_type": "markdown",
      "metadata": {
        "id": "phQMVvT0wBm8",
        "colab_type": "text"
      },
      "source": [
        "We are also curious about salaries in the police force. The chief of police in Chicago claimed in a press briefing that salaries this year are higher than last year's mean of $86000/year a year for all salaried employees. Test this one sided hypothesis using a 95% confidence interval.\n",
        "\n",
        "Hint: A one tailed test has a p-value that is half of the two tailed p-value. If our hypothesis is greater than, then to reject, the test statistic must also be positive."
      ]
    },
    {
      "cell_type": "code",
      "metadata": {
        "id": "cRIEU8hhwBm9",
        "colab_type": "code",
        "colab": {}
      },
      "source": [
        "police=salaries['Annual Salary'][salaries.Department==\"POLICE\"]\n",
        "police=pd.to_numeric(police,errors=\"coerce\").dropna()"
      ],
      "execution_count": 10,
      "outputs": []
    },
    {
      "cell_type": "code",
      "metadata": {
        "id": "SyAFENM5wBnA",
        "colab_type": "code",
        "colab": {}
      },
      "source": [
        "ztest, pval = stest.ztest(police,value=86000,alternative=\"larger\")"
      ],
      "execution_count": 11,
      "outputs": []
    },
    {
      "cell_type": "code",
      "metadata": {
        "id": "asoqd-CTLxGj",
        "colab_type": "code",
        "colab": {
          "base_uri": "https://localhost:8080/",
          "height": 34
        },
        "outputId": "2ede0f42-0b53-446e-a32b-9790231131f6"
      },
      "source": [
        "if pval<0.05:\n",
        "  print(\"Null hypothesis is rejected\")\n",
        "else:\n",
        "  print(\"Null hypothesis is not rejected\")"
      ],
      "execution_count": 12,
      "outputs": [
        {
          "output_type": "stream",
          "text": [
            "Null hypothesis is rejected\n"
          ],
          "name": "stdout"
        }
      ]
    },
    {
      "cell_type": "markdown",
      "metadata": {
        "id": "yUkr84HFwBnA",
        "colab_type": "text"
      },
      "source": [
        "Using the `crosstab` function, find the department that has the most hourly workers. "
      ]
    },
    {
      "cell_type": "markdown",
      "metadata": {
        "id": "iFb1Rb-YwBnD",
        "colab_type": "text"
      },
      "source": [
        "The workers from the department with the most hourly workers have complained that their hourly wage is less than $35/hour. Using a one sample t-test, test this one-sided hypothesis at the 95% confidence level."
      ]
    },
    {
      "cell_type": "code",
      "metadata": {
        "id": "vYGvrw9awBnD",
        "colab_type": "code",
        "colab": {
          "base_uri": "https://localhost:8080/",
          "height": 68
        },
        "outputId": "4c8a64a0-8c99-4cc0-b5e8-e17739993421"
      },
      "source": [
        "police=pd.crosstab(salaries.Department,salaries['Salary or Hourly'])[\"Hourly\"].sort_values(ascending=False)\n",
        "police[0:1]"
      ],
      "execution_count": 13,
      "outputs": [
        {
          "output_type": "execute_result",
          "data": {
            "text/plain": [
              "Department\n",
              "STREETS & SAN    1862\n",
              "Name: Hourly, dtype: int64"
            ]
          },
          "metadata": {
            "tags": []
          },
          "execution_count": 13
        }
      ]
    },
    {
      "cell_type": "code",
      "metadata": {
        "id": "bsprO_-NnxEk",
        "colab_type": "code",
        "colab": {}
      },
      "source": [
        "hourly_rate=salaries[(salaries.Department==\"STREETS & SAN\")&(salaries['Hourly Rate'].notnull())][\"Hourly Rate\"]\n",
        "ztest, pval = stest.ztest(hourly_rate,value=35,alternative=\"smaller\")"
      ],
      "execution_count": 14,
      "outputs": []
    },
    {
      "cell_type": "code",
      "metadata": {
        "id": "w7xnV8xzpGMb",
        "colab_type": "code",
        "colab": {
          "base_uri": "https://localhost:8080/",
          "height": 34
        },
        "outputId": "32f72608-0940-4011-a580-88d982c97cc1"
      },
      "source": [
        "if pval<0.05:\n",
        "  print(\"Null hypothesis is rejected\")\n",
        "else:\n",
        "  print(\"Null hypothesis is not rejected\")"
      ],
      "execution_count": 15,
      "outputs": [
        {
          "output_type": "stream",
          "text": [
            "Null hypothesis is rejected\n"
          ],
          "name": "stdout"
        }
      ]
    },
    {
      "cell_type": "markdown",
      "metadata": {
        "id": "eTKjjb8TwBnH",
        "colab_type": "text"
      },
      "source": [
        "# Challenge 3 - Constructing Confidence Intervals\n",
        "\n",
        "While testing our hypothesis is a great way to gather empirical evidence for accepting or rejecting the hypothesis, another way to gather evidence is by creating a confidence interval. A confidence interval gives us information about the true mean of the population. So for a 95% confidence interval, we are 95% sure that the mean of the population is within the confidence interval. \n",
        ").\n",
        "\n",
        "To read more about confidence intervals, click [here](https://en.wikipedia.org/wiki/Confidence_interval).\n",
        "\n",
        "\n",
        "In the cell below, we will construct a 95% confidence interval for the mean hourly wage of all hourly workers. \n",
        "\n",
        "The confidence interval is computed in SciPy using the `t.interval` function. You can read more about this function [here](https://docs.scipy.org/doc/scipy-0.14.0/reference/generated/scipy.stats.t.html).\n",
        "\n",
        "To compute the confidence interval of the hourly wage, use the 0.95 for the confidence level, number of rows - 1 for degrees of freedom, the mean of the sample for the location parameter and the standard error for the scale. The standard error can be computed using [this](https://docs.scipy.org/doc/scipy/reference/generated/scipy.stats.sem.html) function in SciPy."
      ]
    },
    {
      "cell_type": "code",
      "metadata": {
        "id": "d36qdhHgwBnI",
        "colab_type": "code",
        "colab": {
          "base_uri": "https://localhost:8080/",
          "height": 34
        },
        "outputId": "a3bd2bbd-9135-4f2a-821f-3f619c124719"
      },
      "source": [
        "sample=salaries[\"Hourly Rate\"].dropna()\n",
        "sample_mean=sample.mean()\n",
        "sample_standard_error = sem(sample)\n",
        "degrees_freedom = len(sample) - 1\n",
        "t.interval(0.95,degrees_freedom,sample_mean,sample_standard_error)"
      ],
      "execution_count": 38,
      "outputs": [
        {
          "output_type": "execute_result",
          "data": {
            "text/plain": [
              "(32.52345834488529, 33.05365708767727)"
            ]
          },
          "metadata": {
            "tags": []
          },
          "execution_count": 38
        }
      ]
    },
    {
      "cell_type": "markdown",
      "metadata": {
        "id": "ZkJQSpsBwBnK",
        "colab_type": "text"
      },
      "source": [
        "Now construct the 95% confidence interval for all salaried employeed in the police in the cell below."
      ]
    },
    {
      "cell_type": "code",
      "metadata": {
        "id": "c8Z2JteewBnL",
        "colab_type": "code",
        "colab": {
          "base_uri": "https://localhost:8080/",
          "height": 34
        },
        "outputId": "24ebc478-80f1-4e94-c451-f6a4ffcf2fc9"
      },
      "source": [
        "sample=salaries[(salaries.Department==\"POLICE\")&(salaries['Salary or Hourly']==\"Salary\")][\"Annual Salary\"]\n",
        "sample_mean=sample.mean()\n",
        "sample_standard_error = sem(sample)\n",
        "degrees_freedom = len(sample) - 1\n",
        "t.interval(0.95,degrees_freedom,sample_mean,sample_standard_error)\n"
      ],
      "execution_count": 45,
      "outputs": [
        {
          "output_type": "execute_result",
          "data": {
            "text/plain": [
              "(86177.05631531784, 86795.77269094894)"
            ]
          },
          "metadata": {
            "tags": []
          },
          "execution_count": 45
        }
      ]
    },
    {
      "cell_type": "code",
      "metadata": {
        "id": "3vjzDk-oYy94",
        "colab_type": "code",
        "colab": {
          "base_uri": "https://localhost:8080/",
          "height": 34
        },
        "outputId": "627ac943-8738-4368-f87d-45eb4d6abddf"
      },
      "source": [
        "#Utilizando Statsmodels\n",
        "stest.zconfint(sample, alpha=0.95, alternative='two-sided', usevar='pooled')"
      ],
      "execution_count": 52,
      "outputs": [
        {
          "output_type": "execute_result",
          "data": {
            "text/plain": [
              "(86476.51783996992, 86496.31116629686)"
            ]
          },
          "metadata": {
            "tags": []
          },
          "execution_count": 52
        }
      ]
    },
    {
      "cell_type": "markdown",
      "metadata": {
        "id": "eiybHFNpwBnN",
        "colab_type": "text"
      },
      "source": [
        "# Challenge 4 - Hypothesis Tests of Proportions\n",
        "\n",
        "Another type of one sample test is a hypothesis test of proportions. In this test, we examine whether the proportion of a group in our sample is significantly different than a fraction. \n",
        "\n",
        "You can read more about one sample proportion tests [here](http://sphweb.bumc.bu.edu/otlt/MPH-Modules/BS/SAS/SAS6-CategoricalData/SAS6-CategoricalData2.html).\n",
        "\n",
        "In the cell below, use the `proportions_ztest` function from `statsmodels` to perform a hypothesis test that will determine whether the number of hourly workers in the City of Chicago is significantly different from 25% at the 95% confidence level."
      ]
    },
    {
      "cell_type": "code",
      "metadata": {
        "id": "bRUKTzzRwBnN",
        "colab_type": "code",
        "colab": {
          "base_uri": "https://localhost:8080/",
          "height": 181
        },
        "outputId": "b4b55d41-9988-4a30-c82a-62f8e4653594"
      },
      "source": [
        "# Your code here:\n",
        "proportion.proportions_ztest"
      ],
      "execution_count": 53,
      "outputs": [
        {
          "output_type": "error",
          "ename": "AttributeError",
          "evalue": "ignored",
          "traceback": [
            "\u001b[0;31m---------------------------------------------------------------------------\u001b[0m",
            "\u001b[0;31mAttributeError\u001b[0m                            Traceback (most recent call last)",
            "\u001b[0;32m<ipython-input-53-20f7b49874ff>\u001b[0m in \u001b[0;36m<module>\u001b[0;34m()\u001b[0m\n\u001b[1;32m      1\u001b[0m \u001b[0;31m# Your code here:\u001b[0m\u001b[0;34m\u001b[0m\u001b[0;34m\u001b[0m\u001b[0;34m\u001b[0m\u001b[0m\n\u001b[0;32m----> 2\u001b[0;31m \u001b[0mstest\u001b[0m\u001b[0;34m.\u001b[0m\u001b[0mproportions_ztest\u001b[0m\u001b[0;34m(\u001b[0m\u001b[0;34m)\u001b[0m\u001b[0;34m\u001b[0m\u001b[0;34m\u001b[0m\u001b[0m\n\u001b[0m",
            "\u001b[0;31mAttributeError\u001b[0m: module 'statsmodels.stats.weightstats' has no attribute 'proportions_ztest'"
          ]
        }
      ]
    },
    {
      "cell_type": "code",
      "metadata": {
        "id": "eW50nOX9jPv1",
        "colab_type": "code",
        "colab": {}
      },
      "source": [
        ""
      ],
      "execution_count": null,
      "outputs": []
    }
  ]
}